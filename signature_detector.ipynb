{
 "cells": [
  {
   "cell_type": "markdown",
   "metadata": {},
   "source": [
    "# Find signature areas with and without missing signatures with Keras, Tesseract, and ImageMagick"
   ]
  },
  {
   "cell_type": "markdown",
   "metadata": {},
   "source": [
    "We want to find contract pages that have signature areas with missing signatures. Our strategy is to use Tesseract to search for typical words such as \"som kjøper\" and \"som selger\" that usually appear near a signature field, extract a \"signature area\" image around these words, and classify them as \"containing a signature\" or \"not containing a signature\"."
   ]
  },
  {
   "cell_type": "code",
   "execution_count": 1,
   "metadata": {},
   "outputs": [],
   "source": [
    "import os, glob\n",
    "import numpy as np\n",
    "import random\n",
    "from PIL import Image, ImageDraw, ImageFont, ImageEnhance\n",
    "from bs4 import BeautifulSoup as soup\n",
    "import re\n",
    "import matplotlib.pyplot as plt\n",
    "import csv\n",
    "import faker"
   ]
  },
  {
   "cell_type": "markdown",
   "metadata": {},
   "source": [
    "We'll develop our approach using this example contract from EiendomsMegler 1: ![](samples/eiendomsmegler1_kontrakt.png)"
   ]
  },
  {
   "cell_type": "markdown",
   "metadata": {},
   "source": [
    "We start by writing helper functions that will generate a text file with bounding boxes from the image we want to detect signatures in:"
   ]
  },
  {
   "cell_type": "code",
   "execution_count": 6,
   "metadata": {},
   "outputs": [],
   "source": [
    "def hocr_img(img_file_name, temp_file_name = \"temp_pdf_png\"):\n",
    "    os.system(\"rm {0}*\".format(temp_file_name))\n",
    "    \n",
    "    file = img_file_name.rsplit('.', 1)[0]\n",
    "    suffix = img_file_name.rsplit('.', 1)[1]\n",
    "\n",
    "    os.system(\"convert -density 300 -depth 8 -quality 85 {0} {1}-0.png\".format(img_file_name, temp_file_name))\n",
    "    os.system(\"tesseract -l nor {0} {1}-0 hocr\".format(img_file_name, temp_file_name))\n",
    "    #increase_contrast(img_file_name) \n",
    "\n",
    "    hocr_files = [\"{0}-0.hocr\".format(temp_file_name)]\n",
    "    return(hocr_files)\n",
    "\n",
    "\n",
    "def hocr_pdf(pdf_file_name,temp_file_name = \"temp_pdf_png\"):\n",
    "    os.system(\"rm {0}*\".format(temp_file_name))\n",
    "\n",
    "    os.system(\"convert -density 300 -depth 8 -quality 85 {0} {1}.png\".format(pdf_file_name, temp_file_name))\n",
    "    png_files = glob.glob(\"{0}*.png\".format(temp_file_name))\n",
    "    \n",
    "    for png_file in png_files:\n",
    "        file = png_file.replace(\".png\",\"\")\n",
    "        os.system(\"tesseract -l nor {0} {1} hocr\".format(png_file, file))\n",
    "        #increase_contrast(png_file)\n",
    "\n",
    "    if os.path.isfile(\"{0}.png\".format(temp_file_name)):\n",
    "        os.system(\"mv {0}.png {0}-0.png\".format(temp_file_name))\n",
    "        os.system(\"mv {0}.hocr {0}-0.hocr\".format(temp_file_name))\n",
    "    \n",
    "    hocr_files = sorted(glob.glob(\"{0}*.hocr\".format(temp_file_name)))\n",
    "    \n",
    "    return(hocr_files)"
   ]
  },
  {
   "cell_type": "markdown",
   "metadata": {},
   "source": [
    "We use beautifulsoup to find the elements containing the keywords we want to trigger signature detection in. By default we use \"Som kjøper\", \"Som selger\", \"For kjøper\", \"For selger\", \"Kjøpers underskrift\", \"Selgers underskrift\":"
   ]
  },
  {
   "cell_type": "code",
   "execution_count": 7,
   "metadata": {},
   "outputs": [],
   "source": [
    "def search_hocr_for_sentence(sentence, trigger_dict, hocr, page_num):\n",
    "    \n",
    "    word_span_list = hocr.find_all(\"span\", {\"id\" : lambda L: L and L.startswith('word_')})\n",
    "    \n",
    "    word_list = []\n",
    "    word_id_list = []\n",
    "    bbox_list = []\n",
    "    \n",
    "    for word_span in word_span_list:\n",
    "        #word = re.sub(r'[^\\w\\s]','',word_span.find(text=True))\n",
    "        word = re.sub(\";\",\":\", word_span.find(text=True))\n",
    "        word_id = int(word_span[\"id\"].replace(\"word_1_\",\"\"))\n",
    "        bbox = word_span[\"title\"].replace(\";\",\"\").split()[1:5]\n",
    "        \n",
    "        word_list.append(word)\n",
    "        word_id_list.append(word_id)\n",
    "        bbox_list.append(bbox)\n",
    "    \n",
    "    sentence_words = sentence.split()\n",
    "    sentence_length=len(sentence_words)\n",
    "    \n",
    "    n=0\n",
    "    for i in range(len(word_list)):\n",
    "        if sentence_words[0] in word_list[i]:\n",
    "            candidate_sentence = \" \".join(word_list[i:(i+sentence_length)])\n",
    "            if sentence in candidate_sentence:\n",
    "                n+=1\n",
    "                bbox = bbox_list[i+sentence_length-1]\n",
    "                trigger_dict.update({sentence+\" \"+str(n) : {\"page\" : page_num,\n",
    "                                                            \"x0\":int(bbox[0]),\n",
    "                                                            \"y0\":int(bbox[1]),\n",
    "                                                            \"x1\":int(bbox[2]),\n",
    "                                                            \"y1\":int(bbox[3])}})\n",
    "    return(trigger_dict, word_list, word_id_list, bbox_list)\n",
    "\n",
    "\n",
    "def get_trigger_areas(hocr_list,\n",
    "                      trigger_sentences = \"trigger_sentences.csv\"):\n",
    "\n",
    "    with open(trigger_sentences) as csvfile:\n",
    "        reader = csv.reader(csvfile)\n",
    "        trigger_sentences = list(reader)[0]\n",
    "    \n",
    "    trigger_dict = {}\n",
    "    \n",
    "    page_num=0\n",
    "    for hocr_file in hocr_list:\n",
    "        page_num+=1\n",
    "        with open(hocr_file,\"r\") as file:\n",
    "            hocr = soup(file, \"html5lib\")\n",
    "        \n",
    "        for trigger_sentence in trigger_sentences:\n",
    "            trigger_dict, word_list, word_id_list, bbox_list = search_hocr_for_sentence(trigger_sentence,\n",
    "                                                                                        trigger_dict,\n",
    "                                                                                        hocr,\n",
    "                                                                                        page_num)\n",
    "    return(trigger_dict, word_list, word_id_list, bbox_list)"
   ]
  },
  {
   "cell_type": "code",
   "execution_count": 8,
   "metadata": {},
   "outputs": [],
   "source": [
    "trigger_dict,_,_,_ = get_trigger_areas(hocr_pdf(\"samples/eiendomsmegler1_kontrakt.png\"))"
   ]
  },
  {
   "cell_type": "code",
   "execution_count": 9,
   "metadata": {},
   "outputs": [
    {
     "data": {
      "text/plain": [
       "{'Som kjøper 1': {'page': 1, 'x0': 749, 'y0': 880, 'x1': 824, 'y1': 905},\n",
       " 'Som selger 1': {'page': 1, 'x0': 179, 'y0': 880, 'x1': 249, 'y1': 905}}"
      ]
     },
     "execution_count": 9,
     "metadata": {},
     "output_type": "execute_result"
    }
   ],
   "source": [
    "trigger_dict"
   ]
  },
  {
   "cell_type": "markdown",
   "metadata": {},
   "source": [
    "Let's extract images of each detected signature field. We'll use the font size (from the height of the bounding box) to scale the extracted area: The larger the font, the larger the extracted image:"
   ]
  },
  {
   "cell_type": "code",
   "execution_count": 10,
   "metadata": {},
   "outputs": [],
   "source": [
    "def extract_signatures(trigger_dict, \n",
    "                       rel_left=3,\n",
    "                       rel_right=15,\n",
    "                       rel_up=0,\n",
    "                       rel_down=6,\n",
    "                       temp_file_name=\"temp_pdf_png\"):\n",
    "    sig_img_list = []\n",
    "    for trigger in trigger_dict:\n",
    "        page_file  = temp_file_name + \"-\" + str(trigger_dict[trigger][\"page\"]-1) + \".png\"\n",
    "        page_img   = Image.open(page_file)\n",
    "        page_width = page_img.size[0]\n",
    "        page_height= page_img.size[1]\n",
    "        \n",
    "        x0 = trigger_dict[trigger][\"x0\"]\n",
    "        x1 = trigger_dict[trigger][\"x1\"]\n",
    "        y0 = trigger_dict[trigger][\"y0\"]\n",
    "        y1 = trigger_dict[trigger][\"y1\"]\n",
    "        \n",
    "        font_height = y1-y0\n",
    "        \n",
    "        x0 = np.max([x0 - font_height*rel_left, 0])\n",
    "        x1 = np.min([x0 + font_height*rel_right, page_width])\n",
    "        y0 = np.max([y0 - font_height*rel_up, 0])\n",
    "        y1 = np.min([y0 + font_height*rel_down, page_height])\n",
    "        \n",
    "        crop_img = page_img.crop((x0,y0,x1,y1))\n",
    "        sig_img_list.append(crop_img)\n",
    "    \n",
    "    return(sig_img_list)"
   ]
  },
  {
   "cell_type": "code",
   "execution_count": 11,
   "metadata": {},
   "outputs": [],
   "source": [
    "img_list = extract_signatures(trigger_dict)"
   ]
  },
  {
   "cell_type": "code",
   "execution_count": 12,
   "metadata": {},
   "outputs": [
    {
     "data": {
      "image/png": "[encoded data removed]",
      "text/plain": [
       "<PIL.Image.Image image mode=P size=375x150 at 0x7F171635CC50>"
      ]
     },
     "execution_count": 12,
     "metadata": {},
     "output_type": "execute_result"
    }
   ],
   "source": [
    "img_list[0]"
   ]
  },
  {
   "cell_type": "code",
   "execution_count": 13,
   "metadata": {},
   "outputs": [
    {
     "data": {
      "image/png": "[encoded data removed]",
      "text/plain": [
       "<PIL.Image.Image image mode=P size=375x150 at 0x7F171635CCC0>"
      ]
     },
     "execution_count": 13,
     "metadata": {},
     "output_type": "execute_result"
    }
   ],
   "source": [
    "img_list[1]"
   ]
  },
  {
   "cell_type": "markdown",
   "metadata": {},
   "source": [
    "This works pretty well! Our next step is to build a training data set for the neural net that will decide if each image contains a signature. We'll generate a bunch of signature areas of various sizes, with and without signatures:"
   ]
  },
  {
   "cell_type": "code",
   "execution_count": 270,
   "metadata": {},
   "outputs": [],
   "source": [
    "def salt_image(img,salt_prob):\n",
    "    max_x, max_y = img.size\n",
    "    pixels = img.load()\n",
    "    x = random.randrange(max_x)\n",
    "    y = random.randrange(max_y)\n",
    "    for i in range(max_x):\n",
    "        for j in range(max_y):\n",
    "            if random.random() < salt_prob:\n",
    "                r,g,b,a = pixels[x,y]\n",
    "                red = 255\n",
    "                green = 255\n",
    "                blue = 255\n",
    "                pixels[i, j] = (red, green, blue, a)\n",
    "    return(img)\n",
    "\n",
    "\n",
    "def generate_signature(new_width, new_height, alpha, filename):\n",
    "    \n",
    "    img = Image.open(filename)\n",
    "    width, height = img.size\n",
    "\n",
    "    pixdata = img.load()\n",
    "    for y in range(height):\n",
    "        for x in range(width):\n",
    "            r,g,b,a = pixdata[x,y]\n",
    "            pixdata[x, y] = (r, g, b, np.int(a*alpha))\n",
    "           \n",
    "    img = img.resize((new_width, new_height), Image.ANTIALIAS)\n",
    "    \n",
    "    return(img)\n",
    "\n",
    "\n",
    "def signature_box_content(width, \n",
    "                          height, \n",
    "                          text=\"\", \n",
    "                          include_text=False, \n",
    "                          signed=True, \n",
    "                          horizontal_line = True, \n",
    "                          name_under_line=False, \n",
    "                          address_under_line=False,\n",
    "                          max_salt=0.7, sig_directory=\"signatures\", font_directory=\"fonts\"):\n",
    "    \n",
    "    bottom_margin = np.int(np.max([np.round(height*0.15),1]))\n",
    "    \n",
    "    sig_img = Image.new(\"RGB\", (width,height), color=\"white\")\n",
    "\n",
    "    fnt_size = np.int(bottom_margin*0.7)\n",
    "    font = random.choice(os.listdir(font_directory))\n",
    "    txt_fnt = ImageFont.truetype(font, fnt_size)\n",
    "\n",
    "    text_shift = random.uniform(0,1)\n",
    "    line_shift = random.uniform(1,3)\n",
    "    \n",
    "    draw = ImageDraw.Draw(sig_img)\n",
    " \n",
    "    fake = faker.Faker()\n",
    "\n",
    "    if horizontal_line:\n",
    "        draw.line((0, sig_img.size[1]-int(bottom_margin*line_shift), sig_img.size[0], sig_img.size[1]-int(bottom_margin*line_shift)), fill=\"black\")\n",
    "    \n",
    "    if name_under_line:\n",
    "        draw.text((0, sig_img.size[1]-int(bottom_margin*line_shift)), fake.name(), font=txt_fnt, fill=\"black\")\n",
    "    \n",
    "    if address_under_line:\n",
    "        draw.text((0, sig_img.size[1]-int(bottom_margin*(line_shift-1))), fake.address(), font=txt_fnt, fill=\"black\")\n",
    "    \n",
    "    if include_text:\n",
    "        draw.text((0,int(text_shift*text_shift)), text, font=txt_fnt, fill=\"black\")\n",
    "    \n",
    "    if signed:\n",
    "        sig_alpha = random.uniform(0.2, 1)\n",
    "        sig_width = np.random.randint(low=int(width/3),high=int(width*1.5))\n",
    "        sig_height = np.random.randint(low=int(height/3),high=int(height*1.5))\n",
    "        sig_left_margin = np.random.randint(width-int(sig_width/2))\n",
    "        sig_top_margin = np.random.randint(height-bottom_margin-int(sig_height/2))\n",
    "        sig_filename = random.choice(os.listdir(sig_directory))\n",
    "        salt_factor = random.uniform(0,max_salt)\n",
    "        #print(sig_filename) Uncomment to debug signature.png-s with bad transparency masks\n",
    "        signature = salt_image(generate_signature(sig_width, height-bottom_margin, sig_alpha, sig_directory+\"/\"+sig_filename),salt_factor)\n",
    "        sig_img.paste(signature, (sig_left_margin,sig_top_margin), signature)\n",
    "        \n",
    "    return(sig_img, bottom_margin)"
   ]
  },
  {
   "cell_type": "code",
   "execution_count": 271,
   "metadata": {},
   "outputs": [],
   "source": [
    "def generate_signatures(N,\n",
    "                        trigger_sentences = \"trigger_sentences.csv\",\n",
    "                        pct_validate=0.1,\n",
    "                        path=\"signature_output\",\n",
    "                        signed_probability=0.5,\n",
    "                        horizontal_line_probability=0.5,\n",
    "                        text_probability=0.5,\n",
    "                        name_probability=0.5,\n",
    "                        address_probability=0.5,\n",
    "                        signature_width_min = 200,\n",
    "                        signature_width_max = 600,\n",
    "                        signature_height_min= 100,\n",
    "                        signature_height_max= 400):\n",
    "\n",
    "    N_length = len(str(N))\n",
    "\n",
    "    with open(trigger_sentences) as csvfile:\n",
    "        reader = csv.reader(csvfile)\n",
    "        trigger_sentences = list(reader)[0]\n",
    "    \n",
    "    os.system(\"rm -R {0}\".format(path))\n",
    "    os.system(\"mkdir {0}\".format(path))\n",
    "    os.system(\"mkdir {0}/train\".format(path))\n",
    "    os.system(\"mkdir {0}/train/signed\".format(path))\n",
    "    os.system(\"mkdir {0}/train/not_signed\".format(path))\n",
    "    os.system(\"mkdir {0}/validation\".format(path))\n",
    "    os.system(\"mkdir {0}/validation/signed\".format(path))\n",
    "    os.system(\"mkdir {0}/validation/not_signed\".format(path))\n",
    "    \n",
    "    for n in range(0,(N)):\n",
    "        \n",
    "        height = np.random.randint(low=signature_height_min, high=signature_height_max)\n",
    "        width = np.int(np.min([height*1.6,np.random.randint(low=signature_width_min, high=signature_width_max)]))\n",
    "        \n",
    "        box_is_signed = np.random.rand()<signed_probability\n",
    "        box_has_line = np.random.rand()<horizontal_line_probability\n",
    "        box_has_text = np.random.rand()<text_probability\n",
    "        box_has_name = np.random.rand()<name_probability\n",
    "        box_has_address = np.random.rand()<address_probability\n",
    "        \n",
    "        sign_box_text = random.choice(trigger_sentences)\n",
    "            \n",
    "        sig_img, _ = signature_box_content(width, \n",
    "                                           height, \n",
    "                                           sign_box_text, \n",
    "                                           box_has_text, \n",
    "                                           box_is_signed, \n",
    "                                           box_has_line, \n",
    "                                           box_has_name, \n",
    "                                           box_has_address)\n",
    "        \n",
    "        #n_string = str(n+1).zfill(N_length)\n",
    "        n_string = str(n+1)\n",
    "        \n",
    "        N_train = np.int(N*(1-pct_validate))\n",
    "\n",
    "        if n<N_train:\n",
    "            if box_is_signed:\n",
    "                   sig_img.save(path+\"/train/signed/\"+n_string+\".png\")\n",
    "            else:\n",
    "                   sig_img.save(path+\"/train/not_signed/\"+n_string+\".png\")\n",
    "        else:\n",
    "            if box_is_signed:\n",
    "                   sig_img.save(path+\"/validation/signed/\"+n_string+\".png\")\n",
    "            else:\n",
    "                   sig_img.save(path+\"/validation/not_signed/\"+n_string+\".png\")\n",
    "        \n",
    "        if (n+1) % 100 == 0:\n",
    "            print(str(n+1) + \" of \" +str(N))\n",
    "            \n",
    "    return(\"Done! Synthetic signatures written to \"+path)"
   ]
  },
  {
   "cell_type": "code",
   "execution_count": 272,
   "metadata": {},
   "outputs": [
    {
     "name": "stdout",
     "output_type": "stream",
     "text": [
      "100 of 2000\n",
      "200 of 2000\n",
      "300 of 2000\n",
      "400 of 2000\n",
      "500 of 2000\n",
      "600 of 2000\n",
      "700 of 2000\n",
      "800 of 2000\n",
      "900 of 2000\n",
      "1000 of 2000\n",
      "1100 of 2000\n",
      "1200 of 2000\n",
      "1300 of 2000\n",
      "1400 of 2000\n",
      "1500 of 2000\n",
      "1600 of 2000\n",
      "1700 of 2000\n",
      "1800 of 2000\n",
      "1900 of 2000\n",
      "2000 of 2000\n"
     ]
    },
    {
     "data": {
      "text/plain": [
       "'Done! Synthetic signatures written to signature_output'"
      ]
     },
     "execution_count": 272,
     "metadata": {},
     "output_type": "execute_result"
    }
   ],
   "source": [
    "generate_signatures(2000)"
   ]
  },
  {
   "cell_type": "markdown",
   "metadata": {},
   "source": [
    "Now let's see if we can teach a small CNN to tell the difference between signed signature areas and signature areas with missing signatures (see https://blog.keras.io/building-powerful-image-classification-models-using-very-little-data.html for details):"
   ]
  },
  {
   "cell_type": "code",
   "execution_count": 273,
   "metadata": {},
   "outputs": [
    {
     "name": "stdout",
     "output_type": "stream",
     "text": [
      "Found 1800 images belonging to 2 classes.\n",
      "Found 200 images belonging to 2 classes.\n",
      "Epoch 1/20\n",
      "120/120 [==============================] - 46s 387ms/step - loss: 0.7363 - acc: 0.5750 - val_loss: 0.6374 - val_acc: 0.5333\n",
      "Epoch 2/20\n",
      "120/120 [==============================] - 47s 394ms/step - loss: 0.5458 - acc: 0.7333 - val_loss: 0.3240 - val_acc: 0.9282\n",
      "Epoch 3/20\n",
      "120/120 [==============================] - 43s 361ms/step - loss: 0.3866 - acc: 0.8400 - val_loss: 0.2039 - val_acc: 0.9231\n",
      "Epoch 4/20\n",
      "120/120 [==============================] - 41s 342ms/step - loss: 0.2392 - acc: 0.9183 - val_loss: 0.1474 - val_acc: 0.9641\n",
      "Epoch 5/20\n",
      "120/120 [==============================] - 41s 345ms/step - loss: 0.1965 - acc: 0.9328 - val_loss: 0.0841 - val_acc: 0.9897\n",
      "Epoch 6/20\n",
      "120/120 [==============================] - 42s 347ms/step - loss: 0.1596 - acc: 0.9461 - val_loss: 0.1403 - val_acc: 0.9897\n",
      "Epoch 7/20\n",
      "120/120 [==============================] - 41s 346ms/step - loss: 0.1229 - acc: 0.9633 - val_loss: 0.0406 - val_acc: 0.9846\n",
      "Epoch 8/20\n",
      "120/120 [==============================] - 42s 348ms/step - loss: 0.1282 - acc: 0.9656 - val_loss: 0.0305 - val_acc: 0.9949\n",
      "Epoch 9/20\n",
      "120/120 [==============================] - 42s 347ms/step - loss: 0.0962 - acc: 0.9767 - val_loss: 0.0386 - val_acc: 0.9897\n",
      "Epoch 10/20\n",
      "120/120 [==============================] - 43s 356ms/step - loss: 0.1606 - acc: 0.9633 - val_loss: 0.0434 - val_acc: 0.9846\n",
      "Epoch 11/20\n",
      "120/120 [==============================] - 38s 319ms/step - loss: 0.1482 - acc: 0.9617 - val_loss: 0.0194 - val_acc: 0.9949\n",
      "Epoch 12/20\n",
      "120/120 [==============================] - 35s 290ms/step - loss: 0.0948 - acc: 0.9722 - val_loss: 0.0323 - val_acc: 0.9897\n",
      "Epoch 13/20\n",
      "120/120 [==============================] - 35s 290ms/step - loss: 0.1068 - acc: 0.9739 - val_loss: 0.0706 - val_acc: 0.9846\n",
      "Epoch 14/20\n",
      "120/120 [==============================] - 34s 286ms/step - loss: 0.0962 - acc: 0.9767 - val_loss: 0.0424 - val_acc: 0.9846\n",
      "Epoch 15/20\n",
      "120/120 [==============================] - 35s 288ms/step - loss: 0.0693 - acc: 0.9800 - val_loss: 0.0426 - val_acc: 0.9897\n",
      "Epoch 16/20\n",
      "120/120 [==============================] - 35s 288ms/step - loss: 0.0694 - acc: 0.9806 - val_loss: 0.0933 - val_acc: 0.9846\n",
      "Epoch 17/20\n",
      "120/120 [==============================] - 35s 294ms/step - loss: 0.1562 - acc: 0.9733 - val_loss: 0.0281 - val_acc: 0.9949\n",
      "Epoch 18/20\n",
      "120/120 [==============================] - 35s 292ms/step - loss: 0.0487 - acc: 0.9861 - val_loss: 0.0300 - val_acc: 0.9897\n",
      "Epoch 19/20\n",
      "120/120 [==============================] - 35s 289ms/step - loss: 0.0775 - acc: 0.9794 - val_loss: 0.0319 - val_acc: 0.9949\n",
      "Epoch 20/20\n",
      "120/120 [==============================] - 35s 293ms/step - loss: 0.0629 - acc: 0.9806 - val_loss: 0.0138 - val_acc: 0.9949\n"
     ]
    }
   ],
   "source": [
    "from keras.preprocessing.image import ImageDataGenerator\n",
    "from keras.models import Sequential\n",
    "from keras.layers import Conv2D, MaxPooling2D\n",
    "from keras.layers import Activation, Dropout, Flatten, Dense\n",
    "from keras import backend as K\n",
    "\n",
    "# dimensions of our images.\n",
    "img_width, img_height = 150, 150\n",
    "\n",
    "train_data_dir = 'signature_output/train'\n",
    "validation_data_dir = 'signature_output/validation'\n",
    "nb_train_samples = 1800\n",
    "nb_validation_samples = 200\n",
    "epochs = 20\n",
    "batch_size = 15\n",
    "\n",
    "if K.image_data_format() == 'channels_first':\n",
    "    input_shape = (3, img_width, img_height)\n",
    "else:\n",
    "    input_shape = (img_width, img_height, 3)\n",
    "\n",
    "train_datagen = ImageDataGenerator(\n",
    "    rescale=1. / 255,\n",
    "    shear_range=0.2,\n",
    "    zoom_range=0.2,\n",
    "    horizontal_flip=True)\n",
    "test_datagen = ImageDataGenerator(rescale=1./255)\n",
    "\n",
    "train_generator = train_datagen.flow_from_directory(\n",
    "    train_data_dir,\n",
    "    target_size=(img_width, img_height),\n",
    "    batch_size=batch_size,\n",
    "    class_mode='binary')\n",
    "\n",
    "validation_generator = test_datagen.flow_from_directory(\n",
    "    validation_data_dir,\n",
    "    target_size=(img_width, img_height),\n",
    "    batch_size=batch_size,\n",
    "    class_mode='binary')\n",
    "\n",
    "model = Sequential()\n",
    "model.add(Conv2D(32, (3, 3), input_shape=input_shape))\n",
    "model.add(Activation('relu'))\n",
    "model.add(MaxPooling2D(pool_size=(2, 2)))\n",
    "\n",
    "model.add(Conv2D(32, (3, 3)))\n",
    "model.add(Activation('relu'))\n",
    "model.add(MaxPooling2D(pool_size=(2, 2)))\n",
    "model.add(Dropout(0.5))\n",
    "\n",
    "model.add(Conv2D(64, (3, 3)))\n",
    "model.add(Activation('relu'))\n",
    "model.add(MaxPooling2D(pool_size=(2, 2)))\n",
    "\n",
    "#model.add(Conv2D(128, (3, 3)))\n",
    "#model.add(Activation('relu'))\n",
    "#model.add(MaxPooling2D(pool_size=(2, 2)))\n",
    "\n",
    "model.add(Flatten())\n",
    "model.add(Dense(64))\n",
    "model.add(Activation('relu'))\n",
    "model.add(Dropout(0.5))\n",
    "model.add(Dense(1))\n",
    "model.add(Activation('sigmoid'))\n",
    "\n",
    "model.compile(loss='binary_crossentropy',\n",
    "              optimizer='rmsprop',\n",
    "              metrics=['accuracy'])\n",
    "\n",
    "model.fit_generator(\n",
    "    train_generator,\n",
    "    steps_per_epoch=nb_train_samples // batch_size,\n",
    "    epochs=epochs,\n",
    "    validation_data=validation_generator,\n",
    "    validation_steps=nb_validation_samples // batch_size)\n",
    "\n",
    "#model.save_weights('first_try.h5')\n",
    "model.save('model.h5')"
   ]
  },
  {
   "cell_type": "markdown",
   "metadata": {},
   "source": [
    "The model validates well on the synthetic signatures, but what about real cases not based on synthetic data? Let's give it a go on the contract example from Eiendomsmegler 1:"
   ]
  },
  {
   "cell_type": "code",
   "execution_count": 18,
   "metadata": {},
   "outputs": [],
   "source": [
    "from keras.models import load_model\n",
    "from keras.preprocessing import image\n",
    "from keras import backend as K\n",
    "\n",
    "def predict_image(model_name, img, threshold=0.5, show=False):\n",
    "    \"\"\"Use a pretrained CNN to judge if an image contains a signature.\"\"\"\n",
    "\n",
    "    img = img.convert('RGB')\n",
    "    \n",
    "    img = img.resize((150, 150), Image.ANTIALIAS)\n",
    "    img_tensor = image.img_to_array(img)                    # (height, width, channels)\n",
    "    img_tensor = np.expand_dims(img_tensor, axis=0)         # (1, height, width, channels), add a dimension because the model expects this shape: (batch_size, height, width, channels)\n",
    "    img_tensor /= 255.                                      # imshow expects values in the range [0, 1]\n",
    "\n",
    "    if show:\n",
    "        plt.imshow(img_tensor[0])                           \n",
    "        plt.axis('off')\n",
    "        plt.show()\n",
    "    \n",
    "    K.clear_session()\n",
    "    model = load_model(model_name)\n",
    "    \n",
    "    pred = model.predict(img_tensor)\n",
    "    \n",
    "    if pred[0]<threshold:\n",
    "        conclusion = False # \"Not signed!\"\n",
    "        confidence = (threshold-pred)/threshold\n",
    "    else:\n",
    "        conclusion = True # \"Signed!\"\n",
    "        confidence = (pred-threshold)/(1-threshold)\n",
    "    \n",
    "    return conclusion, np.round(confidence,4)"
   ]
  },
  {
   "cell_type": "code",
   "execution_count": 19,
   "metadata": {},
   "outputs": [
    {
     "data": {
      "image/png": "[encoded data removed]",
      "text/plain": [
       "<Figure size 432x288 with 1 Axes>"
      ]
     },
     "metadata": {},
     "output_type": "display_data"
    },
    {
     "data": {
      "text/plain": [
       "(False, array([[0.9977]], dtype=float32))"
      ]
     },
     "execution_count": 19,
     "metadata": {},
     "output_type": "execute_result"
    }
   ],
   "source": [
    "predict_image(\"model.h5\",img_list[0],show=True)"
   ]
  },
  {
   "cell_type": "code",
   "execution_count": 20,
   "metadata": {},
   "outputs": [
    {
     "data": {
      "image/png": "[encoded data removed]",
      "text/plain": [
       "<Figure size 432x288 with 1 Axes>"
      ]
     },
     "metadata": {},
     "output_type": "display_data"
    },
    {
     "data": {
      "text/plain": [
       "(False, array([[0.9923]], dtype=float32))"
      ]
     },
     "execution_count": 20,
     "metadata": {},
     "output_type": "execute_result"
    }
   ],
   "source": [
    "predict_image(\"model.h5\",img_list[1],show=True)"
   ]
  },
  {
   "cell_type": "markdown",
   "metadata": {},
   "source": [
    "\"False\" means \"Not signed\" in this contect, and 1. means the model is pretty damn confident about its' conclusion. Looking good! Now what if we sign this contract by hand, with a signature not earlier seen by the model during training?\n",
    "\n",
    "![](samples/eiendomsmegler1_kontrakt_signed.png)"
   ]
  },
  {
   "cell_type": "code",
   "execution_count": 21,
   "metadata": {},
   "outputs": [],
   "source": [
    "signed_trigger_dict,_,_,_ = get_trigger_areas(hocr_img(\"samples/eiendomsmegler1_kontrakt_signed.png\"))\n",
    "signed_img_list = extract_signatures(signed_trigger_dict)"
   ]
  },
  {
   "cell_type": "code",
   "execution_count": 22,
   "metadata": {},
   "outputs": [
    {
     "data": {
      "image/png": "[encoded data removed]",
      "text/plain": [
       "<PIL.Image.Image image mode=P size=390x156 at 0x7F16F8A2E898>"
      ]
     },
     "execution_count": 22,
     "metadata": {},
     "output_type": "execute_result"
    }
   ],
   "source": [
    "signed_img_list[0]"
   ]
  },
  {
   "cell_type": "code",
   "execution_count": 23,
   "metadata": {},
   "outputs": [
    {
     "data": {
      "image/png": "[encoded data removed]",
      "text/plain": [
       "<PIL.Image.Image image mode=P size=390x156 at 0x7F17162EEB00>"
      ]
     },
     "execution_count": 23,
     "metadata": {},
     "output_type": "execute_result"
    }
   ],
   "source": [
    "signed_img_list[1]"
   ]
  },
  {
   "cell_type": "code",
   "execution_count": 24,
   "metadata": {},
   "outputs": [
    {
     "data": {
      "image/png": "[encoded data removed]",
      "text/plain": [
       "<Figure size 432x288 with 1 Axes>"
      ]
     },
     "metadata": {},
     "output_type": "display_data"
    },
    {
     "data": {
      "text/plain": [
       "(True, array([[0.9999]], dtype=float32))"
      ]
     },
     "execution_count": 24,
     "metadata": {},
     "output_type": "execute_result"
    }
   ],
   "source": [
    "predict_image(\"model.h5\",signed_img_list[0],show=True)"
   ]
  },
  {
   "cell_type": "code",
   "execution_count": 25,
   "metadata": {},
   "outputs": [
    {
     "data": {
      "image/png": "[encoded data removed]",
      "text/plain": [
       "<Figure size 432x288 with 1 Axes>"
      ]
     },
     "metadata": {},
     "output_type": "display_data"
    },
    {
     "data": {
      "text/plain": [
       "(True, array([[1.]], dtype=float32))"
      ]
     },
     "execution_count": 25,
     "metadata": {},
     "output_type": "execute_result"
    }
   ],
   "source": [
    "predict_image(\"model.h5\",signed_img_list[1],show=True)"
   ]
  },
  {
   "cell_type": "markdown",
   "metadata": {},
   "source": [
    "Well done, AI-signature-detector!"
   ]
  },
  {
   "cell_type": "markdown",
   "metadata": {},
   "source": [
    "Let's create some functions to gather all of the above toghether:"
   ]
  },
  {
   "cell_type": "code",
   "execution_count": 28,
   "metadata": {},
   "outputs": [],
   "source": [
    "def score_signatures(trigger_dict, \n",
    "                     rel_left=3,\n",
    "                     rel_right=10,\n",
    "                     rel_up=0,\n",
    "                     rel_down=6,\n",
    "                     model=\"model.h5\",\n",
    "                     temp_file_name=\"temp_pdf_png\"):\n",
    "    \"\"\"Use a pretrained CNN to search for signatures in each trigger area in trigger_dict. The results are added to trigger_dict and the latter returned.\"\"\"\n",
    "    \n",
    "    for trigger in trigger_dict:\n",
    "        page_file  = temp_file_name + \"-\" + str(trigger_dict[trigger][\"page\"]-1) + \".png\"\n",
    "        page_img   = Image.open(page_file)\n",
    "        page_width = page_img.size[0]\n",
    "        page_height= page_img.size[1]\n",
    "        \n",
    "        x0 = trigger_dict[trigger][\"x0\"]\n",
    "        x1 = trigger_dict[trigger][\"x1\"]\n",
    "        y0 = trigger_dict[trigger][\"y0\"]\n",
    "        y1 = trigger_dict[trigger][\"y1\"]\n",
    "        \n",
    "        font_height = y1-y0\n",
    "        \n",
    "        x0 = np.max([x0 - font_height*rel_left, 0])\n",
    "        x1 = np.min([x0 + font_height*rel_right, page_width])\n",
    "        y0 = np.max([y0 - font_height*rel_up, 0])\n",
    "        y1 = np.min([y0 + font_height*rel_down, page_height])\n",
    "        \n",
    "        crop_img = page_img.crop((x0,y0,x1,y1))\n",
    "        \n",
    "        signed, confidence = predict_image(model,crop_img,show=False)\n",
    "        \n",
    "        trigger_dict[trigger].update({\"x0\":int(x0),\n",
    "                                      \"x1\":int(x1),\n",
    "                                      \"y0\":int(y0),\n",
    "                                      \"y1\":int(y1),\n",
    "                                      \"signed\":signed, \n",
    "                                      \"confidence\":np.float(confidence)})\n",
    "    \n",
    "    return(trigger_dict)\n",
    "\n",
    "\n",
    "def score(hocr_files):\n",
    "    trigger_dict,_,_,_ = get_trigger_areas(hocr_files)\n",
    "    score_dict = score_signatures(trigger_dict)\n",
    "    \n",
    "    return(score_dict)"
   ]
  },
  {
   "cell_type": "markdown",
   "metadata": {},
   "source": [
    "Let's try our scoring function on Forbrukerrådet's recommended contract. We expect the (unsigned) signatures to be on page 5:"
   ]
  },
  {
   "cell_type": "code",
   "execution_count": 30,
   "metadata": {},
   "outputs": [
    {
     "data": {
      "text/plain": [
       "{'Kjøpers underskrift 1': {'page': 5,\n",
       "  'x0': 184,\n",
       "  'y0': 2595,\n",
       "  'x1': 404,\n",
       "  'y1': 2727,\n",
       "  'signed': False,\n",
       "  'confidence': 1.0},\n",
       " 'Selgers underskrift 1': {'page': 5,\n",
       "  'x0': 183,\n",
       "  'y0': 2703,\n",
       "  'x1': 403,\n",
       "  'y1': 2835,\n",
       "  'signed': False,\n",
       "  'confidence': 1.0}}"
      ]
     },
     "execution_count": 30,
     "metadata": {},
     "output_type": "execute_result"
    }
   ],
   "source": [
    "score(hocr_pdf(\"samples/forbrukerrådet_kontrakt.pdf\"))"
   ]
  },
  {
   "cell_type": "markdown",
   "metadata": {},
   "source": [
    "And what about a contract for buying a used car?"
   ]
  },
  {
   "cell_type": "code",
   "execution_count": 32,
   "metadata": {},
   "outputs": [
    {
     "data": {
      "text/plain": [
       "{'Kjøpers underskrift 1': {'page': 1,\n",
       "  'x0': 1675,\n",
       "  'y0': 3333,\n",
       "  'x1': 1945,\n",
       "  'y1': 3495,\n",
       "  'signed': False,\n",
       "  'confidence': 0.9972000122070312},\n",
       " 'Selgers underskrift 1': {'page': 1,\n",
       "  'x0': 890,\n",
       "  'y0': 3333,\n",
       "  'x1': 1160,\n",
       "  'y1': 3495,\n",
       "  'signed': False,\n",
       "  'confidence': 0.9966999888420105}}"
      ]
     },
     "execution_count": 32,
     "metadata": {},
     "output_type": "execute_result"
    }
   ],
   "source": [
    "score(hocr_pdf(\"samples/bil_kontrakt.pdf\"))"
   ]
  },
  {
   "cell_type": "markdown",
   "metadata": {},
   "source": [
    "This is really all we need! But... wouldn't it be cool to also return the PDF with the signature detections marked? Yeah, let's give it a try:"
   ]
  },
  {
   "cell_type": "code",
   "execution_count": 35,
   "metadata": {},
   "outputs": [],
   "source": [
    "import img2pdf\n",
    "\n",
    "def visualize_detections(trigger_dict, filename, fnt_size=30, temp_file_name = \"temp_pdf_png\"):\n",
    "    \n",
    "    png_file_dict = {}\n",
    "    for trigger in trigger_dict:\n",
    "        \n",
    "        page_file  = temp_file_name + \"-\" + str(trigger_dict[trigger][\"page\"]-1) + \".png\"\n",
    "        img = Image.open(page_file).convert(\"RGB\")\n",
    "        drawing = ImageDraw.Draw(img)\n",
    "        \n",
    "        top_left = (trigger_dict[trigger][\"x0\"],trigger_dict[trigger][\"y0\"])\n",
    "        bottom_right= (trigger_dict[trigger][\"x1\"],trigger_dict[trigger][\"y1\"])\n",
    "\n",
    "        text_start_x = trigger_dict[trigger][\"x0\"]\n",
    "        text_start_y = trigger_dict[trigger][\"y1\"]-fnt_size\n",
    "        text_start = (text_start_x, text_start_y)\n",
    "        \n",
    "        txt_fnt  = ImageFont.truetype(\"DejaVuSerif.ttf\", fnt_size)\n",
    "\n",
    "        if trigger_dict[trigger][\"signed\"]==True:\n",
    "            color=\"green\"\n",
    "            text = str(trigger)+\" Signed! Conf.: \" + str(np.round(trigger_dict[trigger][\"confidence\"]))\n",
    "        else:\n",
    "            color=\"red\"\n",
    "            text = str(trigger)+\" Not signed! Conf.: \" + str(np.round(trigger_dict[trigger][\"confidence\"],3))\n",
    "\n",
    "        drawing.rectangle([top_left, bottom_right], outline=color)\n",
    "        drawing.text(text_start, text, font=txt_fnt, fill=color)\n",
    "        \n",
    "        img.save(page_file)\n",
    "        \n",
    "    img_list = sorted(glob.glob(\"{0}*.png\".format(temp_file_name)))\n",
    "    #with open(filename, \"wb\") as f:\n",
    "    #    f.write(img2pdf.convert(img_list))\n",
    "    pdf_resp = img2pdf.convert(img_list)\n",
    "\n",
    "    return (pdf_resp)"
   ]
  },
  {
   "cell_type": "code",
   "execution_count": 38,
   "metadata": {},
   "outputs": [],
   "source": [
    "bil_dict = score(hocr_pdf(\"samples/bil_kontrakt.pdf\"))\n",
    "\n",
    "with open(\"bil_viz.pdf\",\"wb\") as f:\n",
    "    f.write(visualize_detections(bil_dict, \"samples/bil_kontrakt.pdf\"))"
   ]
  },
  {
   "cell_type": "markdown",
   "metadata": {},
   "source": [
    "Go ahead and [have a look](bil_viz.pdf) :)"
   ]
  }
 ],
 "metadata": {
  "kernelspec": {
   "display_name": "Python 3",
   "language": "python",
   "name": "python3"
  },
  "language_info": {
   "codemirror_mode": {
    "name": "ipython",
    "version": 3
   },
   "file_extension": ".py",
   "mimetype": "text/x-python",
   "name": "python",
   "nbconvert_exporter": "python",
   "pygments_lexer": "ipython3",
   "version": "3.6.5"
  }
 },
 "nbformat": 4,
 "nbformat_minor": 2
}
